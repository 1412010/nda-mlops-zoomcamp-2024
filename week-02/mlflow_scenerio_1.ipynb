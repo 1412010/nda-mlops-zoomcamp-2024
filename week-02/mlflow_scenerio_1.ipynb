{
 "cells": [
  {
   "cell_type": "markdown",
   "metadata": {},
   "source": [
    "# Scenario 1: A single data scientist participating in an ML competition"
   ]
  },
  {
   "cell_type": "markdown",
   "metadata": {},
   "source": [
    "Scenerio setup: \n",
    "+ Tracking server: no.\n",
    "+ Backend store: local filesystem.\n",
    "+ Artifact store: local filesystem.\n",
    "The experiment can be explored locally by launching the ML flow UI."
   ]
  },
  {
   "cell_type": "code",
   "execution_count": 37,
   "metadata": {},
   "outputs": [],
   "source": [
    "import mlflow"
   ]
  },
  {
   "cell_type": "code",
   "execution_count": 38,
   "metadata": {},
   "outputs": [
    {
     "name": "stdout",
     "output_type": "stream",
     "text": [
      "tracking URI: sqlite:///mlflow.db\n"
     ]
    }
   ],
   "source": [
    "print(f\"tracking URI: {mlflow.get_tracking_uri()}\")"
   ]
  },
  {
   "cell_type": "code",
   "execution_count": 42,
   "metadata": {},
   "outputs": [
    {
     "data": {
      "text/plain": [
       "[<Experiment: artifact_location='file:///D:/code/nda-mlops-zoomcamp-2024/week-02/mlruns/1', creation_time=1717343602995, experiment_id='1', last_update_time=1717343602995, lifecycle_stage='active', name='nyc-taxi-experiment', tags={}>,\n",
       " <Experiment: artifact_location='file:///D:/code/nda-mlops-zoomcamp-2024/week-02/mlruns/0', creation_time=1717343602987, experiment_id='0', last_update_time=1717343602987, lifecycle_stage='active', name='Default', tags={}>]"
      ]
     },
     "execution_count": 42,
     "metadata": {},
     "output_type": "execute_result"
    }
   ],
   "source": [
    "mlflow.search_experiments()"
   ]
  },
  {
   "cell_type": "markdown",
   "metadata": {},
   "source": [
    "## Create an experiment and log a new run"
   ]
  },
  {
   "cell_type": "code",
   "execution_count": 44,
   "metadata": {},
   "outputs": [],
   "source": [
    "mlflow.end_run()"
   ]
  },
  {
   "cell_type": "code",
   "execution_count": 45,
   "metadata": {},
   "outputs": [
    {
     "name": "stdout",
     "output_type": "stream",
     "text": [
      "default artifact URI: file:///D:/code/nda-mlops-zoomcamp-2024/week-02/mlruns/2/05e1247c0ded4579835ec988a587c5a2/artifacts\n"
     ]
    }
   ],
   "source": [
    "from sklearn.datasets import load_iris\n",
    "from sklearn.linear_model import LogisticRegression\n",
    "from sklearn.metrics import accuracy_score\n",
    "\n",
    "mlflow.set_experiment(\"my-experiment-1\")\n",
    "\n",
    "with mlflow.start_run():\n",
    "    X, y = load_iris(return_X_y=True)\n",
    "    \n",
    "    params = { \"C\": 0.1, \"random_state\": 42 }\n",
    "    mlflow.log_params(params)\n",
    "    \n",
    "    lr = LogisticRegression(**params)\n",
    "    lr = lr.fit(X, y)\n",
    "    y_pred = lr.predict(X)\n",
    "    mlflow.log_metric(\"accuracy\", accuracy_score(y, y_pred))\n",
    "    \n",
    "    mlflow.sklearn.log_model(lr, artifact_path=\"models\")\n",
    "    print(f\"default artifact URI: {mlflow.get_artifact_uri()}\") "
   ]
  },
  {
   "cell_type": "code",
   "execution_count": 47,
   "metadata": {},
   "outputs": [
    {
     "data": {
      "text/plain": [
       "[<Experiment: artifact_location='file:///D:/code/nda-mlops-zoomcamp-2024/week-02/mlruns/2', creation_time=1717843484176, experiment_id='2', last_update_time=1717843484176, lifecycle_stage='active', name='my-experiment-1', tags={}>,\n",
       " <Experiment: artifact_location='file:///D:/code/nda-mlops-zoomcamp-2024/week-02/mlruns/1', creation_time=1717343602995, experiment_id='1', last_update_time=1717343602995, lifecycle_stage='active', name='nyc-taxi-experiment', tags={}>,\n",
       " <Experiment: artifact_location='file:///D:/code/nda-mlops-zoomcamp-2024/week-02/mlruns/0', creation_time=1717343602987, experiment_id='0', last_update_time=1717343602987, lifecycle_stage='active', name='Default', tags={}>]"
      ]
     },
     "execution_count": 47,
     "metadata": {},
     "output_type": "execute_result"
    }
   ],
   "source": [
    "mlflow.search_experiments()"
   ]
  },
  {
   "cell_type": "markdown",
   "metadata": {},
   "source": [
    "## Interacting with the Model Registry"
   ]
  },
  {
   "cell_type": "code",
   "execution_count": 48,
   "metadata": {},
   "outputs": [],
   "source": [
    "from mlflow.client import MlflowClient\n",
    "\n",
    "client = MlflowClient()"
   ]
  },
  {
   "cell_type": "code",
   "execution_count": 51,
   "metadata": {},
   "outputs": [
    {
     "name": "stdout",
     "output_type": "stream",
     "text": [
      "[<RegisteredModel: aliases={'in-preview': 1, 'staging': 1}, creation_timestamp=1717688401070, description='', last_updated_timestamp=1717688401106, latest_versions=[<ModelVersion: aliases=[], creation_timestamp=1717688401106, current_stage='None', description='', last_updated_timestamp=1717688401106, name='nyc-taxi-model', run_id='92025337761b47258bb509b166789a29', run_link='', source='file:///D:/code/nda-mlops-zoomcamp-2024/week-02/mlruns/1/92025337761b47258bb509b166789a29/artifacts/model', status='READY', status_message=None, tags={}, user_id=None, version=1>], name='nyc-taxi-model', tags={}>]\n"
     ]
    }
   ],
   "source": [
    "from mlflow.exceptions import MlflowException\n",
    "\n",
    "try:\n",
    "    print(client.search_registered_models())\n",
    "except MlflowException:\n",
    "    print(\"It's not possible to access the model registry\")"
   ]
  },
  {
   "cell_type": "markdown",
   "metadata": {},
   "source": [
    "It would not be possible to access model registry if you are using backend store as the local filesystem.<br>\n",
    "To do so, we should have the backend store as the others such as sqlite,..."
   ]
  },
  {
   "cell_type": "code",
   "execution_count": null,
   "metadata": {},
   "outputs": [],
   "source": []
  }
 ],
 "metadata": {
  "kernelspec": {
   "display_name": "Python 3 (ipykernel)",
   "language": "python",
   "name": "python3"
  },
  "language_info": {
   "codemirror_mode": {
    "name": "ipython",
    "version": 3
   },
   "file_extension": ".py",
   "mimetype": "text/x-python",
   "name": "python",
   "nbconvert_exporter": "python",
   "pygments_lexer": "ipython3",
   "version": "3.12.3"
  }
 },
 "nbformat": 4,
 "nbformat_minor": 2
}
