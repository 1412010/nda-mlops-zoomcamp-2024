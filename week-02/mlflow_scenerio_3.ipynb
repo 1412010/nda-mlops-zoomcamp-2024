{
 "cells": [
  {
   "cell_type": "markdown",
   "metadata": {},
   "source": [
    "# Scenario 3: Multiple data scientist working on multiple ML models"
   ]
  },
  {
   "cell_type": "markdown",
   "metadata": {},
   "source": [
    "Scenerio setup: \n",
    "+ Tracking server: yes, remote server (AWS EC2).\n",
    "+ Backend store: sqlite database.\n",
    "+ Artifact store: s3 bucket.\n",
    "\n",
    "The experiment can be explored by accessing the **remote** ocal tracking server.<br>\n",
    "To run this example, we need to launch the mlflow server locally by this command: \n",
    "\n",
    "This example uses AWS to host the remote server.<br>\n",
    "\n",
    "Follow this guide to create the AWS resoures (EC2, RDS, S3): [mlflow_on_aws](https://github.com/1412010/nda-mlops-zoomcamp-2024/blob/main/week-02/mlflow_on_aws.md)"
   ]
  },
  {
   "cell_type": "markdown",
   "metadata": {},
   "source": [
    "To start the MLflow server inside EC2: \n",
    "\n",
    "`mlflow server -h 0.0.0.0 -p 5000 --backend-store-uri postgresql://DB_USER:DB_PASSWORD#@DB_ENDPOINT:5432/DATABASE --default-artifact-root s3://<S3 bucket name>\n",
    "`"
   ]
  },
  {
   "cell_type": "code",
   "execution_count": 1,
   "metadata": {},
   "outputs": [],
   "source": [
    "import os\n",
    "\n",
    "# os.environ[\"AWS_PROFILE\"] = \"default\"\n",
    "# os.environ[\"AWS_CONFIG_FILE\"] = \"~/.aws/credentials\"\n",
    "\n",
    "os.environ[\"AWS_ACCESS_KEY_ID\"] = \"\"\n",
    "os.environ[\"AWS_SECRET_ACCESS_KEY\"] = \"\""
   ]
  },
  {
   "cell_type": "code",
   "execution_count": 2,
   "metadata": {},
   "outputs": [],
   "source": [
    "import mlflow\n",
    "\n",
    "# Public IPv4 DNS server address of the EC2 instance\n",
    "TRACKING_SERVER_HOST = \"ec2-54-169-146-85.ap-southeast-1.compute.amazonaws.com\" \n",
    "\n",
    "mlflow.set_tracking_uri(f\"http://{TRACKING_SERVER_HOST}:5000\")"
   ]
  },
  {
   "cell_type": "code",
   "execution_count": 3,
   "metadata": {},
   "outputs": [
    {
     "name": "stdout",
     "output_type": "stream",
     "text": [
      "Mlflow tracking URI: http://ec2-54-169-146-85.ap-southeast-1.compute.amazonaws.com:5000\n"
     ]
    }
   ],
   "source": [
    "print(f\"Mlflow tracking URI: {mlflow.get_tracking_uri()}\")"
   ]
  },
  {
   "cell_type": "code",
   "execution_count": 4,
   "metadata": {},
   "outputs": [
    {
     "data": {
      "text/plain": [
       "[<Experiment: artifact_location='s3://nda-mlflow-artifacts-remote/3', creation_time=1718126110387, experiment_id='3', last_update_time=1718126110387, lifecycle_stage='active', name='my-experiment-1', tags={}>,\n",
       " <Experiment: artifact_location='s3://nda-mlflow-artifacts-remote/2', creation_time=1718125936709, experiment_id='2', last_update_time=1718125936709, lifecycle_stage='active', name='my-experiment-3', tags={}>,\n",
       " <Experiment: artifact_location='s3://nda-mlflow-artifacts-remote/1', creation_time=1718124572483, experiment_id='1', last_update_time=1718124572483, lifecycle_stage='active', name='my-experiment-2', tags={}>,\n",
       " <Experiment: artifact_location='s3://nda-mlflow-artifacts-remote/0', creation_time=1718124176503, experiment_id='0', last_update_time=1718124176503, lifecycle_stage='active', name='Default', tags={}>]"
      ]
     },
     "execution_count": 4,
     "metadata": {},
     "output_type": "execute_result"
    }
   ],
   "source": [
    "mlflow.search_experiments()"
   ]
  },
  {
   "cell_type": "markdown",
   "metadata": {},
   "source": [
    "## Create an experiment and log a new run"
   ]
  },
  {
   "cell_type": "code",
   "execution_count": 5,
   "metadata": {},
   "outputs": [],
   "source": [
    "mlflow.end_run()"
   ]
  },
  {
   "cell_type": "code",
   "execution_count": 6,
   "metadata": {},
   "outputs": [
    {
     "name": "stdout",
     "output_type": "stream",
     "text": [
      "default artifact URI: s3://nda-mlflow-artifacts-remote/3/72e81ef324fa4ba49778aa9022480275/artifacts\n"
     ]
    }
   ],
   "source": [
    "from sklearn.datasets import load_iris\n",
    "from sklearn.linear_model import LogisticRegression\n",
    "from sklearn.metrics import accuracy_score\n",
    "\n",
    "mlflow.set_experiment(\"my-experiment-1\")\n",
    "\n",
    "with mlflow.start_run():\n",
    "    X, y = load_iris(return_X_y=True)\n",
    "    \n",
    "    params = { \"C\": 0.1, \"random_state\": 42 }\n",
    "    mlflow.log_params(params)\n",
    "    \n",
    "    lr = LogisticRegression(**params)\n",
    "    lr = lr.fit(X, y)\n",
    "    y_pred = lr.predict(X)\n",
    "    mlflow.log_metric(\"accuracy\", accuracy_score(y, y_pred))\n",
    "    \n",
    "    mlflow.sklearn.log_model(lr, artifact_path=\"models\")\n",
    "    print(f\"default artifact URI: {mlflow.get_artifact_uri()}\") "
   ]
  },
  {
   "cell_type": "code",
   "execution_count": 7,
   "metadata": {},
   "outputs": [
    {
     "data": {
      "text/plain": [
       "[<Experiment: artifact_location='s3://nda-mlflow-artifacts-remote/3', creation_time=1718126110387, experiment_id='3', last_update_time=1718126110387, lifecycle_stage='active', name='my-experiment-1', tags={}>,\n",
       " <Experiment: artifact_location='s3://nda-mlflow-artifacts-remote/2', creation_time=1718125936709, experiment_id='2', last_update_time=1718125936709, lifecycle_stage='active', name='my-experiment-3', tags={}>,\n",
       " <Experiment: artifact_location='s3://nda-mlflow-artifacts-remote/1', creation_time=1718124572483, experiment_id='1', last_update_time=1718124572483, lifecycle_stage='active', name='my-experiment-2', tags={}>,\n",
       " <Experiment: artifact_location='s3://nda-mlflow-artifacts-remote/0', creation_time=1718124176503, experiment_id='0', last_update_time=1718124176503, lifecycle_stage='active', name='Default', tags={}>]"
      ]
     },
     "execution_count": 7,
     "metadata": {},
     "output_type": "execute_result"
    }
   ],
   "source": [
    "mlflow.search_experiments()"
   ]
  },
  {
   "cell_type": "code",
   "execution_count": null,
   "metadata": {},
   "outputs": [],
   "source": []
  },
  {
   "cell_type": "markdown",
   "metadata": {},
   "source": [
    "## Interacting with the Model Registry"
   ]
  },
  {
   "cell_type": "code",
   "execution_count": null,
   "metadata": {},
   "outputs": [],
   "source": [
    "from mlflow.client import MlflowClient\n",
    "\n",
    "client = MlflowClient(\"http://127.0.0.1:5000/\")"
   ]
  },
  {
   "cell_type": "code",
   "execution_count": null,
   "metadata": {},
   "outputs": [
    {
     "name": "stdout",
     "output_type": "stream",
     "text": [
      "[]\n"
     ]
    }
   ],
   "source": [
    "print(client.search_registered_models())"
   ]
  },
  {
   "cell_type": "code",
   "execution_count": null,
   "metadata": {},
   "outputs": [],
   "source": [
    "run_id = client.search_runs(experiment_ids='1')[0].info.run_id"
   ]
  },
  {
   "cell_type": "code",
   "execution_count": null,
   "metadata": {},
   "outputs": [
    {
     "name": "stderr",
     "output_type": "stream",
     "text": [
      "Successfully registered model 'iris_classifier'.\n",
      "2024/06/08 18:26:43 INFO mlflow.store.model_registry.abstract_store: Waiting up to 300 seconds for model version to finish creation. Model name: iris_classifier, version 1\n",
      "Created version '1' of model 'iris_classifier'.\n"
     ]
    },
    {
     "data": {
      "text/plain": [
       "<ModelVersion: aliases=[], creation_timestamp=1717846003303, current_stage='None', description='', last_updated_timestamp=1717846003303, name='iris_classifier', run_id='', run_link='', source='run:/d5c99529b7214afb82191601d37db10d/models', status='READY', status_message='', tags={}, user_id='', version='1'>"
      ]
     },
     "execution_count": 84,
     "metadata": {},
     "output_type": "execute_result"
    }
   ],
   "source": [
    "mlflow.register_model(\n",
    "    model_uri=f\"run:/{run_id}/models\",\n",
    "    name=\"iris_classifier\"\n",
    ")"
   ]
  },
  {
   "cell_type": "code",
   "execution_count": null,
   "metadata": {},
   "outputs": [],
   "source": []
  }
 ],
 "metadata": {
  "kernelspec": {
   "display_name": "Python 3 (ipykernel)",
   "language": "python",
   "name": "python3"
  },
  "language_info": {
   "codemirror_mode": {
    "name": "ipython",
    "version": 3
   },
   "file_extension": ".py",
   "mimetype": "text/x-python",
   "name": "python",
   "nbconvert_exporter": "python",
   "pygments_lexer": "ipython3",
   "version": "3.12.3"
  }
 },
 "nbformat": 4,
 "nbformat_minor": 2
}
