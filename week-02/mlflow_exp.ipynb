{
 "cells": [
  {
   "cell_type": "code",
   "execution_count": 15,
   "metadata": {},
   "outputs": [
    {
     "data": {
      "text/plain": [
       "<Experiment: artifact_location='file:///D:/code/nda-mlops-zoomcamp-2024/week-02/mlruns/1', creation_time=1717343602995, experiment_id='1', last_update_time=1717343602995, lifecycle_stage='active', name='nyc-taxi-experiment', tags={}>"
      ]
     },
     "execution_count": 15,
     "metadata": {},
     "output_type": "execute_result"
    }
   ],
   "source": [
    "import mlflow\n",
    "\n",
    "mlflow.set_tracking_uri(\"sqlite:///mlflow.db\")\n",
    "mlflow.set_experiment(\"nyc-taxi-experiment\")"
   ]
  },
  {
   "cell_type": "markdown",
   "metadata": {},
   "source": [
    "## Load the data"
   ]
  },
  {
   "cell_type": "code",
   "execution_count": 16,
   "metadata": {},
   "outputs": [],
   "source": [
    "import pandas as pd"
   ]
  },
  {
   "cell_type": "code",
   "execution_count": 17,
   "metadata": {},
   "outputs": [],
   "source": [
    "def read_data(url: str) -> pd.DataFrame:\n",
    "    df = pd.read_parquet(url)\n",
    "    \n",
    "    df.tpep_dropoff_datetime = pd.to_datetime(df.tpep_dropoff_datetime)\n",
    "    df.tpep_pickup_datetime = pd.to_datetime(df.tpep_pickup_datetime)\n",
    "    \n",
    "    df['duration'] = df.tpep_dropoff_datetime - df.tpep_pickup_datetime\n",
    "    df.duration = df.duration.apply(lambda t: t.total_seconds() / 60)\n",
    "    \n",
    "    df = df[(df.duration >= 1) & (df.duration <= 60)]\n",
    "\n",
    "    categorical = ['PULocationID', 'DOLocationID']\n",
    "    numerical = ['trip_distance']\n",
    "\n",
    "    df[categorical] = df[categorical].astype(str)\n",
    "    \n",
    "    return df"
   ]
  },
  {
   "cell_type": "code",
   "execution_count": 19,
   "metadata": {},
   "outputs": [
    {
     "name": "stdout",
     "output_type": "stream",
     "text": [
      "2898906 2938060\n"
     ]
    }
   ],
   "source": [
    "train_data = read_data(\"https://d37ci6vzurychx.cloudfront.net/trip-data/yellow_tripdata_2024-01.parquet\")\n",
    "val_data = read_data(\"https://d37ci6vzurychx.cloudfront.net/trip-data/yellow_tripdata_2024-02.parquet\")\n",
    "\n",
    "print(len(train_data), len(val_data))"
   ]
  },
  {
   "cell_type": "code",
   "execution_count": 20,
   "metadata": {},
   "outputs": [],
   "source": [
    "import pickle\n",
    "from sklearn.feature_extraction import DictVectorizer\n",
    "from sklearn.linear_model import LinearRegression, Lasso, Ridge\n",
    "from sklearn.metrics import mean_squared_error, root_mean_squared_error"
   ]
  },
  {
   "cell_type": "markdown",
   "metadata": {},
   "source": [
    "## Model experiment"
   ]
  },
  {
   "cell_type": "code",
   "execution_count": 21,
   "metadata": {},
   "outputs": [],
   "source": [
    "df_train = train_data\n",
    "df_val = val_data"
   ]
  },
  {
   "cell_type": "code",
   "execution_count": 22,
   "metadata": {},
   "outputs": [],
   "source": [
    "categorical = ['PULocationID', 'DOLocationID']\n",
    "numerical = ['trip_distance']\n",
    "target = 'duration'\n",
    "\n",
    "dv = DictVectorizer()\n",
    "\n",
    "train_dicts = df_train[categorical + numerical].to_dict(orient=\"records\")\n",
    "X_train = dv.fit_transform(train_dicts)\n",
    "y_train = df_train[target].values\n",
    "\n",
    "val_dicts = df_val[categorical + numerical].to_dict(orient=\"records\")\n",
    "X_val = dv.transform(val_dicts)\n",
    "y_val = df_val[target].values"
   ]
  },
  {
   "cell_type": "code",
   "execution_count": 23,
   "metadata": {},
   "outputs": [
    {
     "name": "stdout",
     "output_type": "stream",
     "text": [
      "mse:  66.03789333423961\n",
      "rmse:  8.126370243487532\n"
     ]
    }
   ],
   "source": [
    "with mlflow.start_run():\n",
    "    mlflow.set_tag(\"developer\", \"nda\")\n",
    "    mlflow.log_param(\"train_data_path\", \"https://d37ci6vzurychx.cloudfront.net/trip-data/yellow_tripdata_2024-01.parquet\")\n",
    "    mlflow.log_param(\"val_data_path\", \"https://d37ci6vzurychx.cloudfront.net/trip-data/yellow_tripdata_2024-02.parquet\")\n",
    "\n",
    "    mlflow.log_param(\"mode\", \"linear_reg\")\n",
    "    model = LinearRegression()\n",
    "    model = model.fit(X_train, y_train)\n",
    "    \n",
    "    y_pred = model.predict(X_val)\n",
    "\n",
    "    mse = mean_squared_error(y_val, y_pred)\n",
    "    rmse = root_mean_squared_error(y_val, y_pred)\n",
    "    mlflow.log_metric(\"mse\", mse)\n",
    "    mlflow.log_metric(\"rmse\", rmse)\n",
    "    print(\"mse: \", mse)\n",
    "    print(\"rmse: \", rmse)"
   ]
  },
  {
   "cell_type": "code",
   "execution_count": null,
   "metadata": {},
   "outputs": [],
   "source": [
    "with open('./models/lin_reg.bin', 'wb') as f_out:\n",
    "    pickle.dump((dv, model), f_out)"
   ]
  },
  {
   "cell_type": "markdown",
   "metadata": {},
   "source": [
    "## Hyperparameters opitimization"
   ]
  },
  {
   "cell_type": "code",
   "execution_count": 24,
   "metadata": {},
   "outputs": [],
   "source": [
    "import xgboost as xgb\n",
    "\n",
    "from hyperopt import fmin, tpe, hp, STATUS_OK, Trials\n",
    "from hyperopt.pyll import scope"
   ]
  },
  {
   "cell_type": "code",
   "execution_count": null,
   "metadata": {},
   "outputs": [],
   "source": [
    "train = xgb.DMatrix(X_train, label=y_train)\n",
    "val = xgb.DMatrix(X_val, label=y_val)"
   ]
  },
  {
   "cell_type": "code",
   "execution_count": 25,
   "metadata": {},
   "outputs": [],
   "source": [
    "def objective(params):\n",
    "\n",
    "    with mlflow.start_run():\n",
    "        mlflow.set_tag('model', 'xgboost')\n",
    "        mlflow.log_params(params)\n",
    "        booster = xgb.train(\n",
    "            params=params,\n",
    "            dtrain=train,\n",
    "            num_boost_round=1000,\n",
    "            evals=[(val, \"validation\")],\n",
    "            early_stopping_rounds=50\n",
    "        )\n",
    "        y_pred = booster.predict(val)\n",
    "        rmse = root_mean_squared_error(y_val, y_pred)\n",
    "        mlflow.log_metric(\"rmse\", rmse)\n",
    "    \n",
    "    return { \"loss\": rmse, 'status': STATUS_OK }\n",
    "    "
   ]
  },
  {
   "cell_type": "code",
   "execution_count": null,
   "metadata": {},
   "outputs": [],
   "source": [
    "search_space = {\n",
    "    'max_depth': scope.int(hp.quniform('max_depth', 4, 100, 1)),\n",
    "    'learning_rate': hp.loguniform('learning_rate', -3, 0), # [exp(-3), exp(0)] - [0.05, 1]\n",
    "    'reg_alpha': hp.loguniform('reg_alpha', -5, -1),\n",
    "    'reg_lambda': hp.loguniform('reg_lambda', -6, -1),\n",
    "    'min_child_weight': hp.loguniform('min_child_weight', -1, 3),\n",
    "    'objective': 'reg:linear',\n",
    "    'seed': 42,\n",
    "}\n",
    "\n",
    "best_result = fmin(\n",
    "    fn=objective,\n",
    "    space=search_space,\n",
    "    algo=tpe.suggest,\n",
    "    max_evals=50,\n",
    "    trials=Trials()\n",
    ")"
   ]
  },
  {
   "cell_type": "markdown",
   "metadata": {},
   "source": [
    "**Best hyperparameters**"
   ]
  },
  {
   "cell_type": "code",
   "execution_count": 30,
   "metadata": {},
   "outputs": [
    {
     "name": "stderr",
     "output_type": "stream",
     "text": [
      "C:\\Users\\NDA\\miniconda3\\Lib\\site-packages\\xgboost\\core.py:160: UserWarning: [23:43:52] WARNING: C:\\buildkite-agent\\builds\\buildkite-windows-cpu-autoscaling-group-i-0b3782d1791676daf-1\\xgboost\\xgboost-ci-windows\\src\\objective\\regression_obj.cu:209: reg:linear is now deprecated in favor of reg:squarederror.\n",
      "  warnings.warn(smsg, UserWarning)\n"
     ]
    },
    {
     "name": "stdout",
     "output_type": "stream",
     "text": [
      "[0]\tvalidation-rmse:5.17636\n",
      "[1]\tvalidation-rmse:5.14858\n",
      "[2]\tvalidation-rmse:5.12392\n",
      "[3]\tvalidation-rmse:5.10517\n",
      "[4]\tvalidation-rmse:5.09740\n",
      "[5]\tvalidation-rmse:5.06565\n",
      "[6]\tvalidation-rmse:5.05962\n",
      "[7]\tvalidation-rmse:5.05482\n",
      "[8]\tvalidation-rmse:5.03205\n",
      "[9]\tvalidation-rmse:5.02944\n",
      "[10]\tvalidation-rmse:5.01495\n",
      "[11]\tvalidation-rmse:5.00298\n",
      "[12]\tvalidation-rmse:4.99522\n",
      "[13]\tvalidation-rmse:4.99311\n",
      "[14]\tvalidation-rmse:4.99121\n",
      "[15]\tvalidation-rmse:4.98816\n",
      "[16]\tvalidation-rmse:4.98704\n",
      "[17]\tvalidation-rmse:4.98638\n",
      "[18]\tvalidation-rmse:4.98343\n",
      "[19]\tvalidation-rmse:4.98317\n",
      "[20]\tvalidation-rmse:4.98025\n",
      "[21]\tvalidation-rmse:4.97879\n",
      "[22]\tvalidation-rmse:4.97899\n",
      "[23]\tvalidation-rmse:4.97900\n",
      "[24]\tvalidation-rmse:4.97935\n",
      "[25]\tvalidation-rmse:4.97958\n",
      "[26]\tvalidation-rmse:4.97989\n",
      "[27]\tvalidation-rmse:4.97951\n",
      "[28]\tvalidation-rmse:4.97948\n",
      "[29]\tvalidation-rmse:4.97953\n",
      "[30]\tvalidation-rmse:4.97930\n",
      "[31]\tvalidation-rmse:4.97823\n",
      "[32]\tvalidation-rmse:4.97866\n",
      "[33]\tvalidation-rmse:4.97920\n",
      "[34]\tvalidation-rmse:4.97940\n",
      "[35]\tvalidation-rmse:4.97960\n",
      "[36]\tvalidation-rmse:4.97964\n",
      "[37]\tvalidation-rmse:4.98025\n",
      "[38]\tvalidation-rmse:4.98043\n",
      "[39]\tvalidation-rmse:4.98061\n",
      "[40]\tvalidation-rmse:4.98074\n",
      "[41]\tvalidation-rmse:4.98126\n",
      "[42]\tvalidation-rmse:4.98154\n",
      "[43]\tvalidation-rmse:4.98149\n",
      "[44]\tvalidation-rmse:4.98158\n",
      "[45]\tvalidation-rmse:4.98156\n",
      "[46]\tvalidation-rmse:4.98152\n",
      "[47]\tvalidation-rmse:4.98138\n",
      "[48]\tvalidation-rmse:4.98137\n",
      "[49]\tvalidation-rmse:4.98154\n",
      "[50]\tvalidation-rmse:4.98192\n",
      "[51]\tvalidation-rmse:4.98183\n",
      "[52]\tvalidation-rmse:4.98198\n",
      "[53]\tvalidation-rmse:4.98227\n",
      "[54]\tvalidation-rmse:4.98222\n",
      "[55]\tvalidation-rmse:4.98247\n",
      "[56]\tvalidation-rmse:4.98259\n",
      "[57]\tvalidation-rmse:4.98288\n",
      "[58]\tvalidation-rmse:4.98312\n",
      "[59]\tvalidation-rmse:4.98352\n",
      "[60]\tvalidation-rmse:4.98370\n",
      "[61]\tvalidation-rmse:4.98398\n",
      "[62]\tvalidation-rmse:4.98394\n",
      "[63]\tvalidation-rmse:4.98419\n",
      "[64]\tvalidation-rmse:4.98366\n",
      "[65]\tvalidation-rmse:4.98362\n",
      "[66]\tvalidation-rmse:4.98386\n",
      "[67]\tvalidation-rmse:4.98356\n",
      "[68]\tvalidation-rmse:4.98388\n",
      "[69]\tvalidation-rmse:4.98374\n",
      "[70]\tvalidation-rmse:4.98388\n",
      "[71]\tvalidation-rmse:4.98409\n",
      "[72]\tvalidation-rmse:4.98418\n",
      "[73]\tvalidation-rmse:4.98430\n",
      "[74]\tvalidation-rmse:4.98451\n",
      "[75]\tvalidation-rmse:4.98451\n",
      "[76]\tvalidation-rmse:4.98467\n",
      "[77]\tvalidation-rmse:4.98457\n",
      "[78]\tvalidation-rmse:4.98451\n",
      "[79]\tvalidation-rmse:4.98468\n",
      "[80]\tvalidation-rmse:4.98528\n"
     ]
    },
    {
     "name": "stderr",
     "output_type": "stream",
     "text": [
      "2024/06/05 23:44:26 WARNING mlflow.xgboost: Failed to infer model signature: could not sample data to infer model signature: please ensure that autologging is enabled before constructing the dataset.\n",
      "2024/06/05 23:44:26 WARNING mlflow.utils.autologging_utils: MLflow autologging encountered a warning: \"C:\\Users\\NDA\\miniconda3\\Lib\\site-packages\\xgboost\\core.py:160: UserWarning: [23:44:26] WARNING: C:\\buildkite-agent\\builds\\buildkite-windows-cpu-autoscaling-group-i-0b3782d1791676daf-1\\xgboost\\xgboost-ci-windows\\src\\c_api\\c_api.cc:1240: Saving into deprecated binary model format, please consider using `json` or `ubj`. Model format will default to JSON in XGBoost 2.2 if not specified.\"\n"
     ]
    },
    {
     "name": "stdout",
     "output_type": "stream",
     "text": [
      "4.985531829853468\n"
     ]
    }
   ],
   "source": [
    "best_params = {\n",
    "    'learning_rate': 0.9997943283037245,\n",
    "    'max_depth': 33,\n",
    "    'min_child_weight': 7.54030397204494,\n",
    "    'objective': 'reg:linear',\n",
    "    'reg_alpha': 0.01184897746903326,\n",
    "    'reg_lambda': 0.011426820732636738,\n",
    "    'seed': 42\n",
    "}\n",
    "\n",
    "mlflow.xgboost.autolog()\n",
    "\n",
    "booster = xgb.train(\n",
    "    params=best_params,\n",
    "    dtrain=train,\n",
    "    num_boost_round=500,\n",
    "    evals=[(val, \"validation\")],\n",
    "    early_stopping_rounds=50\n",
    ")\n",
    "\n",
    "y_pred = booster.predict(val)\n",
    "rmse = root_mean_squared_error(y_val, y_pred)\n",
    "print(rmse)\n"
   ]
  },
  {
   "cell_type": "markdown",
   "metadata": {},
   "source": [
    "**Save the model Artifact**"
   ]
  },
  {
   "cell_type": "code",
   "execution_count": 31,
   "metadata": {},
   "outputs": [
    {
     "name": "stderr",
     "output_type": "stream",
     "text": [
      "C:\\Users\\NDA\\miniconda3\\Lib\\site-packages\\xgboost\\core.py:160: UserWarning: [23:58:09] WARNING: C:\\buildkite-agent\\builds\\buildkite-windows-cpu-autoscaling-group-i-0b3782d1791676daf-1\\xgboost\\xgboost-ci-windows\\src\\objective\\regression_obj.cu:209: reg:linear is now deprecated in favor of reg:squarederror.\n",
      "  warnings.warn(smsg, UserWarning)\n"
     ]
    },
    {
     "name": "stdout",
     "output_type": "stream",
     "text": [
      "[0]\tvalidation-rmse:5.17636\n",
      "[1]\tvalidation-rmse:5.14858\n",
      "[2]\tvalidation-rmse:5.12392\n",
      "[3]\tvalidation-rmse:5.10517\n",
      "[4]\tvalidation-rmse:5.09740\n",
      "[5]\tvalidation-rmse:5.06565\n",
      "[6]\tvalidation-rmse:5.05962\n",
      "[7]\tvalidation-rmse:5.05482\n",
      "[8]\tvalidation-rmse:5.03205\n",
      "[9]\tvalidation-rmse:5.02944\n",
      "[10]\tvalidation-rmse:5.01495\n",
      "[11]\tvalidation-rmse:5.00298\n",
      "[12]\tvalidation-rmse:4.99522\n",
      "[13]\tvalidation-rmse:4.99311\n",
      "[14]\tvalidation-rmse:4.99121\n",
      "[15]\tvalidation-rmse:4.98816\n",
      "[16]\tvalidation-rmse:4.98704\n",
      "[17]\tvalidation-rmse:4.98638\n",
      "[18]\tvalidation-rmse:4.98343\n",
      "[19]\tvalidation-rmse:4.98317\n",
      "[20]\tvalidation-rmse:4.98025\n",
      "[21]\tvalidation-rmse:4.97879\n",
      "[22]\tvalidation-rmse:4.97899\n",
      "[23]\tvalidation-rmse:4.97900\n",
      "[24]\tvalidation-rmse:4.97935\n",
      "[25]\tvalidation-rmse:4.97958\n",
      "[26]\tvalidation-rmse:4.97989\n",
      "[27]\tvalidation-rmse:4.97951\n",
      "[28]\tvalidation-rmse:4.97948\n",
      "[29]\tvalidation-rmse:4.97953\n",
      "[30]\tvalidation-rmse:4.97930\n",
      "[31]\tvalidation-rmse:4.97823\n",
      "[32]\tvalidation-rmse:4.97866\n",
      "[33]\tvalidation-rmse:4.97920\n",
      "[34]\tvalidation-rmse:4.97940\n",
      "[35]\tvalidation-rmse:4.97960\n",
      "[36]\tvalidation-rmse:4.97964\n",
      "[37]\tvalidation-rmse:4.98025\n",
      "[38]\tvalidation-rmse:4.98043\n",
      "[39]\tvalidation-rmse:4.98061\n",
      "[40]\tvalidation-rmse:4.98074\n",
      "[41]\tvalidation-rmse:4.98126\n",
      "[42]\tvalidation-rmse:4.98154\n",
      "[43]\tvalidation-rmse:4.98149\n",
      "[44]\tvalidation-rmse:4.98158\n",
      "[45]\tvalidation-rmse:4.98156\n",
      "[46]\tvalidation-rmse:4.98152\n",
      "[47]\tvalidation-rmse:4.98138\n",
      "[48]\tvalidation-rmse:4.98137\n",
      "[49]\tvalidation-rmse:4.98154\n",
      "[50]\tvalidation-rmse:4.98192\n",
      "[51]\tvalidation-rmse:4.98183\n",
      "[52]\tvalidation-rmse:4.98198\n",
      "[53]\tvalidation-rmse:4.98227\n",
      "[54]\tvalidation-rmse:4.98222\n",
      "[55]\tvalidation-rmse:4.98247\n",
      "[56]\tvalidation-rmse:4.98259\n",
      "[57]\tvalidation-rmse:4.98288\n",
      "[58]\tvalidation-rmse:4.98312\n",
      "[59]\tvalidation-rmse:4.98352\n",
      "[60]\tvalidation-rmse:4.98370\n",
      "[61]\tvalidation-rmse:4.98398\n",
      "[62]\tvalidation-rmse:4.98394\n",
      "[63]\tvalidation-rmse:4.98419\n",
      "[64]\tvalidation-rmse:4.98366\n",
      "[65]\tvalidation-rmse:4.98362\n",
      "[66]\tvalidation-rmse:4.98386\n",
      "[67]\tvalidation-rmse:4.98356\n",
      "[68]\tvalidation-rmse:4.98388\n",
      "[69]\tvalidation-rmse:4.98374\n",
      "[70]\tvalidation-rmse:4.98388\n",
      "[71]\tvalidation-rmse:4.98409\n",
      "[72]\tvalidation-rmse:4.98418\n",
      "[73]\tvalidation-rmse:4.98430\n",
      "[74]\tvalidation-rmse:4.98451\n",
      "[75]\tvalidation-rmse:4.98451\n",
      "[76]\tvalidation-rmse:4.98467\n",
      "[77]\tvalidation-rmse:4.98457\n",
      "[78]\tvalidation-rmse:4.98451\n",
      "[79]\tvalidation-rmse:4.98468\n",
      "[80]\tvalidation-rmse:4.98528\n"
     ]
    },
    {
     "name": "stderr",
     "output_type": "stream",
     "text": [
      "2024/06/05 23:58:42 WARNING mlflow.xgboost: Failed to infer model signature: could not sample data to infer model signature: please ensure that autologging is enabled before constructing the dataset.\n",
      "2024/06/05 23:58:42 WARNING mlflow.utils.autologging_utils: MLflow autologging encountered a warning: \"C:\\Users\\NDA\\miniconda3\\Lib\\site-packages\\xgboost\\core.py:160: UserWarning: [23:58:42] WARNING: C:\\buildkite-agent\\builds\\buildkite-windows-cpu-autoscaling-group-i-0b3782d1791676daf-1\\xgboost\\xgboost-ci-windows\\src\\c_api\\c_api.cc:1240: Saving into deprecated binary model format, please consider using `json` or `ubj`. Model format will default to JSON in XGBoost 2.2 if not specified.\"\n",
      "C:\\Users\\NDA\\miniconda3\\Lib\\site-packages\\xgboost\\core.py:160: UserWarning: [23:58:49] WARNING: C:\\buildkite-agent\\builds\\buildkite-windows-cpu-autoscaling-group-i-0b3782d1791676daf-1\\xgboost\\xgboost-ci-windows\\src\\c_api\\c_api.cc:1240: Saving into deprecated binary model format, please consider using `json` or `ubj`. Model format will default to JSON in XGBoost 2.2 if not specified.\n",
      "  warnings.warn(smsg, UserWarning)\n"
     ]
    },
    {
     "name": "stdout",
     "output_type": "stream",
     "text": [
      "4.985531829853468\n"
     ]
    }
   ],
   "source": [
    "best_params = {\n",
    "    'learning_rate': 0.9997943283037245,\n",
    "    'max_depth': 33,\n",
    "    'min_child_weight': 7.54030397204494,\n",
    "    'objective': 'reg:linear',\n",
    "    'reg_alpha': 0.01184897746903326,\n",
    "    'reg_lambda': 0.011426820732636738,\n",
    "    'seed': 42\n",
    "}\n",
    "\n",
    "mlflow.log_params(best_params)\n",
    "\n",
    "booster = xgb.train(\n",
    "    params=best_params,\n",
    "    dtrain=train,\n",
    "    num_boost_round=500,\n",
    "    evals=[(val, \"validation\")],\n",
    "    early_stopping_rounds=50\n",
    ")\n",
    "\n",
    "y_pred = booster.predict(val)\n",
    "rmse = root_mean_squared_error(y_val, y_pred)\n",
    "mlflow.log_metric(\"rmse\", rmse)\n",
    "\n",
    "mlflow.xgboost.log_model(booster, artifact_path=\"models_mlflow\")\n",
    "\n",
    "print(rmse)\n"
   ]
  },
  {
   "cell_type": "markdown",
   "metadata": {},
   "source": [
    "Save the preprocessor as artifact:"
   ]
  },
  {
   "cell_type": "code",
   "execution_count": null,
   "metadata": {},
   "outputs": [],
   "source": [
    "mlflow.log_params(best_params)\n",
    "\n",
    "booster = xgb.train(\n",
    "    params=best_params,\n",
    "    dtrain=train,\n",
    "    num_boost_round=500,\n",
    "    evals=[(val, \"validation\")],\n",
    "    early_stopping_rounds=50\n",
    ")\n",
    "\n",
    "y_pred = booster.predict(val)\n",
    "rmse = root_mean_squared_error(y_val, y_pred)\n",
    "mlflow.log_metric(\"rmse\", rmse)\n",
    "\n",
    "with open(\"models/preprocessor.b\", \"wb\") as f_out:\n",
    "    pickle.dump(dv, f_out)\n",
    "\n",
    "mlflow.log_artifact(\"models/preprocessor.b\", artifact_path=\"preprocessor\")\n",
    "\n",
    "mlflow.xgboost.log_model(booster, artifact_path=\"models_mlflow\")\n",
    "\n",
    "print(rmse)"
   ]
  },
  {
   "cell_type": "markdown",
   "metadata": {},
   "source": [
    "Load the saved model"
   ]
  },
  {
   "cell_type": "code",
   "execution_count": 33,
   "metadata": {},
   "outputs": [
    {
     "name": "stderr",
     "output_type": "stream",
     "text": [
      "C:\\Users\\NDA\\miniconda3\\Lib\\site-packages\\xgboost\\core.py:160: UserWarning: [00:36:29] WARNING: C:\\buildkite-agent\\builds\\buildkite-windows-cpu-autoscaling-group-i-0b3782d1791676daf-1\\xgboost\\xgboost-ci-windows\\src\\objective\\regression_obj.cu:209: reg:linear is now deprecated in favor of reg:squarederror.\n",
      "  warnings.warn(smsg, UserWarning)\n"
     ]
    }
   ],
   "source": [
    "import mlflow\n",
    "logged_model = 'runs:/92025337761b47258bb509b166789a29/models_mlflow'\n",
    "\n",
    "# Load model as a PyFuncModel.\n",
    "loaded_model = mlflow.pyfunc.load_model(logged_model)\n",
    "\n",
    "# # Predict on a Pandas DataFrame.\n",
    "# import pandas as pd\n",
    "# loaded_model.predict(pd.DataFrame(data))"
   ]
  },
  {
   "cell_type": "code",
   "execution_count": 34,
   "metadata": {},
   "outputs": [
    {
     "data": {
      "text/plain": [
       "mlflow.pyfunc.loaded_model:\n",
       "  artifact_path: models_mlflow\n",
       "  flavor: mlflow.xgboost\n",
       "  run_id: 92025337761b47258bb509b166789a29"
      ]
     },
     "execution_count": 34,
     "metadata": {},
     "output_type": "execute_result"
    }
   ],
   "source": [
    "loaded_model"
   ]
  },
  {
   "cell_type": "code",
   "execution_count": 35,
   "metadata": {},
   "outputs": [
    {
     "name": "stderr",
     "output_type": "stream",
     "text": [
      "C:\\Users\\NDA\\miniconda3\\Lib\\site-packages\\xgboost\\core.py:160: UserWarning: [00:38:47] WARNING: C:\\buildkite-agent\\builds\\buildkite-windows-cpu-autoscaling-group-i-0b3782d1791676daf-1\\xgboost\\xgboost-ci-windows\\src\\objective\\regression_obj.cu:209: reg:linear is now deprecated in favor of reg:squarederror.\n",
      "  warnings.warn(smsg, UserWarning)\n"
     ]
    }
   ],
   "source": [
    "xgboost_model = mlflow.xgboost.load_model(logged_model)"
   ]
  },
  {
   "cell_type": "code",
   "execution_count": 36,
   "metadata": {},
   "outputs": [],
   "source": [
    "y_pred = xgboost_model.predict(val)"
   ]
  },
  {
   "cell_type": "code",
   "execution_count": null,
   "metadata": {},
   "outputs": [],
   "source": []
  }
 ],
 "metadata": {
  "kernelspec": {
   "display_name": "Python 3 (ipykernel)",
   "language": "python",
   "name": "python3"
  },
  "language_info": {
   "codemirror_mode": {
    "name": "ipython",
    "version": 3
   },
   "file_extension": ".py",
   "mimetype": "text/x-python",
   "name": "python",
   "nbconvert_exporter": "python",
   "pygments_lexer": "ipython3",
   "version": "3.12.3"
  }
 },
 "nbformat": 4,
 "nbformat_minor": 4
}
